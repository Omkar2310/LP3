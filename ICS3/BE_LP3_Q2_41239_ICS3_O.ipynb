{
  "nbformat": 4,
  "nbformat_minor": 0,
  "metadata": {
    "colab": {
      "name": "BE_LP3_41239_ICS_3_O.ipynb",
      "provenance": []
    },
    "kernelspec": {
      "name": "python3",
      "display_name": "Python 3"
    },
    "language_info": {
      "name": "python"
    }
  },
  "cells": [
    {
      "cell_type": "code",
      "metadata": {
        "colab": {
          "base_uri": "https://localhost:8080/"
        },
        "id": "rjXi9dfDo1M1",
        "outputId": "ec7e1ccd-67e1-430d-8a49-1acb165669b4"
      },
      "source": [
        "from random import randint\n",
        "\n",
        "if __name__ == '__main__':\n",
        "\n",
        "\t# Both the persons will be agreed upon the\n",
        "\t# public keys G and P\n",
        "\t# A prime number P is taken\n",
        "\tP = 23\n",
        "\t\n",
        "\t# A primitve root for P, G is taken\n",
        "\tG = 9\n",
        "\t\n",
        "\t\n",
        "\tprint('The Value of P is :%d'%(P))\n",
        "\tprint('The Value of G is :%d'%(G))\n",
        "\t\n",
        "\t# Alice will choose the private key a\n",
        "\ta = 4\n",
        "\tprint('The Private Key a for Alice is :%d'%(a))\n",
        "\t\n",
        "\t# gets the generated key\n",
        "\tx = int(pow(G,a,P))\n",
        "\t\n",
        "\t# Bob will choose the private key b\n",
        "\tb = 3\n",
        "\tprint('The Private Key b for Bob is :%d'%(b))\n",
        "\t\n",
        "\t# gets the generated key\n",
        "\ty = int(pow(G,b,P))\n",
        "\t\n",
        "\t\n",
        "\t# Secret key for Alice\n",
        "\tka = int(pow(y,a,P))\n",
        "\t\n",
        "\t# Secret key for Bob\n",
        "\tkb = int(pow(x,b,P))\n",
        "\t\n",
        "\tprint('Secret key for the Alice is : %d'%(ka))\n",
        "\tprint('Secret Key for the Bob is : %d'%(kb))\n"
      ],
      "execution_count": 1,
      "outputs": [
        {
          "output_type": "stream",
          "text": [
            "The Value of P is :23\n",
            "The Value of G is :9\n",
            "The Private Key a for Alice is :4\n",
            "The Private Key b for Bob is :3\n",
            "Secret key for the Alice is : 9\n",
            "Secret Key for the Bob is : 9\n"
          ],
          "name": "stdout"
        }
      ]
    }
  ]
}