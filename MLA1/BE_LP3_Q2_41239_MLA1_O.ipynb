{
  "nbformat": 4,
  "nbformat_minor": 0,
  "metadata": {
    "colab": {
      "name": "BE_LP3_Q2_41239_MLA1_O.ipynb",
      "provenance": []
    },
    "kernelspec": {
      "name": "python3",
      "display_name": "Python 3"
    },
    "accelerator": "GPU"
  },
  "cells": [
    {
      "cell_type": "code",
      "metadata": {
        "id": "aQPAgQEit8x1"
      },
      "source": [
        ""
      ],
      "execution_count": null,
      "outputs": []
    },
    {
      "cell_type": "markdown",
      "metadata": {
        "id": "4aSkAkwBBFzt"
      },
      "source": [
        "Problem Statement \n",
        "The following table shows the results of a recently conducted\n",
        "study on the correlation of the number of hours spent driving\n",
        "with the risk of developing acute backache. Find the equation of\n",
        "the best fit line for this data.\n",
        "\n",
        "X (Driving hrs) = { 10 , 8 , 2 , 15 , 10 , 16 , 11 , 16 }\n",
        "\n",
        " Y (risk score)= { 95 , 80 , 10 , 50 , 45 , 98 , 38 , 93 }"
      ]
    },
    {
      "cell_type": "markdown",
      "metadata": {
        "id": "ZL64BF7ZdFcY"
      },
      "source": [
        "REMEBER"
      ]
    },
    {
      "cell_type": "code",
      "metadata": {
        "colab": {
          "base_uri": "https://localhost:8080/",
          "height": 300
        },
        "id": "NIcjw3OTdG5P",
        "outputId": "bfcc2386-7fd8-48f3-e95a-c7687fbc6a36"
      },
      "source": [
        "import pandas as pd\n",
        "import numpy as np\n",
        "df = pd.read_csv('Data.csv')\n",
        "df\n",
        "\n"
      ],
      "execution_count": null,
      "outputs": [
        {
          "output_type": "execute_result",
          "data": {
            "text/html": [
              "<div>\n",
              "<style scoped>\n",
              "    .dataframe tbody tr th:only-of-type {\n",
              "        vertical-align: middle;\n",
              "    }\n",
              "\n",
              "    .dataframe tbody tr th {\n",
              "        vertical-align: top;\n",
              "    }\n",
              "\n",
              "    .dataframe thead th {\n",
              "        text-align: right;\n",
              "    }\n",
              "</style>\n",
              "<table border=\"1\" class=\"dataframe\">\n",
              "  <thead>\n",
              "    <tr style=\"text-align: right;\">\n",
              "      <th></th>\n",
              "      <th>Hours</th>\n",
              "      <th>Risk</th>\n",
              "    </tr>\n",
              "  </thead>\n",
              "  <tbody>\n",
              "    <tr>\n",
              "      <th>0</th>\n",
              "      <td>10</td>\n",
              "      <td>95</td>\n",
              "    </tr>\n",
              "    <tr>\n",
              "      <th>1</th>\n",
              "      <td>9</td>\n",
              "      <td>80</td>\n",
              "    </tr>\n",
              "    <tr>\n",
              "      <th>2</th>\n",
              "      <td>2</td>\n",
              "      <td>10</td>\n",
              "    </tr>\n",
              "    <tr>\n",
              "      <th>3</th>\n",
              "      <td>15</td>\n",
              "      <td>50</td>\n",
              "    </tr>\n",
              "    <tr>\n",
              "      <th>4</th>\n",
              "      <td>10</td>\n",
              "      <td>45</td>\n",
              "    </tr>\n",
              "    <tr>\n",
              "      <th>5</th>\n",
              "      <td>16</td>\n",
              "      <td>98</td>\n",
              "    </tr>\n",
              "    <tr>\n",
              "      <th>6</th>\n",
              "      <td>11</td>\n",
              "      <td>38</td>\n",
              "    </tr>\n",
              "    <tr>\n",
              "      <th>7</th>\n",
              "      <td>16</td>\n",
              "      <td>93</td>\n",
              "    </tr>\n",
              "  </tbody>\n",
              "</table>\n",
              "</div>"
            ],
            "text/plain": [
              "   Hours   Risk\n",
              "0      10    95\n",
              "1       9    80\n",
              "2       2    10\n",
              "3      15    50\n",
              "4      10    45\n",
              "5      16    98\n",
              "6      11    38\n",
              "7      16    93"
            ]
          },
          "metadata": {
            "tags": []
          },
          "execution_count": 1
        }
      ]
    },
    {
      "cell_type": "markdown",
      "metadata": {
        "id": "RaiWQsus_dJh"
      },
      "source": [
        "\n",
        "\n",
        "\n",
        "#Understand\n",
        "Here data is\n",
        "\n",
        "Domain = X (hrs) = { 10 , 8 , 2 , 15 , 10 , 16 , 11 , 16 }\n",
        "\n",
        "Range = Y (risk)= { 95 , 80 , 10 , 50 , 45 , 98 , 38 , 93 }\n",
        "\n",
        "Why Machine Learning?\n",
        "\n",
        "-> In the data X(hrs of driving) and Y(risk score) are having one to many mapping so we have to find mapping function that maps domain to range.\n",
        "(In this case there is one to many mapping but it can be also one to one mapping but in that case we need not to use Linear Regression and can be solved by mathematical formula)\n",
        "\n",
        "Why Supervised learning?\n",
        "\n",
        "-> Given data accepts feature X(hrs) mapping with Output label Y(risk) and hence it is Supervised Learning.\n"
      ]
    },
    {
      "cell_type": "markdown",
      "metadata": {
        "id": "gJviEwvIVvDD"
      },
      "source": [
        "\n",
        "\n",
        "Now for finding best fit line the equation of line is y = mx + c\n",
        "\n",
        "\n",
        "But in data observation is that for X=10 maps to 2 values 95 and 45 so to remove this confusion there is need to add new feature\n",
        "\n",
        "Refering to the paper [(Paper)](https://open.library.ubc.ca/cIRcle/collections/facultyresearchandpublications/52383/items/1.0048193) \n",
        "\n",
        "(CREATE)\n",
        "\n",
        "So created WBV(whole body vibration) as a feature in the data.WBV is defined as the mechanical vibration that, when transmitted to the whole body, entails risks to the health and safety of drivers, in particular lower-back morbidity and trauma of the spine.\n",
        "\n",
        "\n",
        "X = { 10 , 8 , 2 , 15 , 10 , 16 , 11 , 16 }\n",
        "\n",
        "WBV = { 85 , 60 , 4 , 20 , 30 , 90 , 15 , 88 } \n",
        "\n",
        "Y = { 95 , 80 , 10 , 50 , 45 , 98 , 38 , 93 }\n",
        "\n",
        "\n",
        "\n",
        "\n",
        "\n",
        "\n"
      ]
    },
    {
      "cell_type": "markdown",
      "metadata": {
        "id": "HNFJagineOH5"
      },
      "source": [
        "Programmer's Perspective\n",
        "\n",
        " Let S be our system\n",
        "\n",
        "S = { s, e, X, Y , fme,ffi | phi}\n",
        "\n",
        "s (start state) = system take input of the data\n",
        "\n",
        "        s = {Xi Yi| i∈N 1<=Xi<=20 and 0<=Yi<=100 }\n",
        "        \n",
        "        s is constructor of class i.e. system()\n",
        "\n",
        "\n",
        "e (end state) = system predict output\n",
        "\n",
        "        predict_output() function of class \n",
        "        best fit line with equation y=mx+c\n",
        "\n",
        "X (input set) = {X1,X2,X3} \n",
        "\n",
        "\n",
        "\n",
        "        X = {hours,wbv,risk}\n",
        "\n",
        "        X1=hours spending in driving { 10 , 8 , 2 , 15 , 10 , 16 , 11 , 16 }   1<=X1<=20\n",
        "\n",
        "        X2=WBV { 85 , 60 , 4 , 20 , 30 , 90 , 15 , 88 } 1<=X2<=100\n",
        "\n",
        "        X3=risk score of back pain { 95 , 80 , 10 , 50 , 45 , 98 , 38 , 93 }  0<=X3<=100\n",
        "\n",
        "Y (outcomes) = {Y0,Y1,Y2} \n",
        "\n",
        "        Y = { predict_output() , slope_intercept() ,rmse }\n",
        "\n",
        "        Specifying Functions\n",
        "\n",
        "        Domain(X) = {10,8,2,15,16,11} input\n",
        "\n",
        "           y = f0(x) = b0(X(i)) + b1 \n",
        "            \n",
        "            b0=slope and b1=y-intercept\n",
        "\n",
        "        Range {95,80,10,50,45,98,38,93}   output\n",
        "\n",
        "        \n",
        "\n",
        "fme - does the transformation of start to end state\n",
        "\n",
        "        main function prediction_output()\n",
        "\n",
        "ffi - set of friend function\n",
        "\n",
        "        {f0 -> calculate_mean(),\n",
        "        \n",
        "        f1 -> calc_variance() ,\n",
        "        \n",
        "        f2 -> coefficients()}\n",
        "\n"
      ]
    },
    {
      "cell_type": "code",
      "metadata": {
        "id": "TYLZ6VVqeQTW"
      },
      "source": [
        ""
      ],
      "execution_count": null,
      "outputs": []
    },
    {
      "cell_type": "code",
      "metadata": {
        "id": "FekbpJmthiva"
      },
      "source": [
        "import numpy as np\n",
        "class system:\n",
        "    def __init__(self,hours,wbv,risk_score):\n",
        "        #start state\n",
        "        self.hours=hours\n",
        "        self.wbv=wbv\n",
        "        self.risk_score=risk_score\n",
        "        self.total_sample=len(self.hours)\n",
        "        self.X=self.initialize_X()\n",
        "        self.Y=self.initialize_Y()\n",
        "    \n",
        "    \n",
        "    def initialize_X(self):\n",
        "        self.total_sample=len(self.hours)\n",
        "        self.X=np.zeros((self.total_sample,3))\n",
        "        for i in range(self.total_sample):\n",
        "            self.X[i]=[1,x[i],y[i]]\n",
        "        return self.X\n",
        "    \n",
        "    def initialize_Y(self):\n",
        "        self.Y=np.array([[]])\n",
        "        for i in range(self.total_sample):\n",
        "            self.Y=np.append(self.Y,z[i])\n",
        "        return self.Y\n",
        "    \n",
        "    def find_transpose(self,X):\n",
        "        return X.T\n",
        "    \n",
        "    def find_inverse(self,X):\n",
        "        return np.linalg.inv(X)\n",
        "    \n",
        "    def calculate_coef(self):\n",
        "        #(ANALYZE)\n",
        "        #this function do calculation of normal equaion\n",
        "        #theta=(X.T . X)^-1 . X.T . Y (for linear regression)\n",
        "        X_transpose=self.find_transpose(self.X)\n",
        "        X_new=X_transpose.dot(self.X)\n",
        "        X_inv=self.find_inverse(X_new)\n",
        "        theta=X_inv.dot(self.find_transpose(self.X)).dot(self.Y)\n",
        "        return theta\n",
        "    def predict_y(self,theta):\n",
        "        Y_pred=[]\n",
        "        for i in range (self.total_sample):\n",
        "            # ans = theta0 + theta1*x1 + theta2*x2 \n",
        "            res=theta[0]+theta[1]*self.hours[i]+theta[2]*self.wbv[i]\n",
        "            Y_pred.append(res)\n",
        "        return Y_pred\n",
        "    \n",
        "    \n",
        "    def predict_output(self):\n",
        "        #this is end state of system\n",
        "        theta=self.calculate_coef()\n",
        "        #(APPLY)\n",
        "        Y_pred=self.predict_y(theta)\n",
        "        import sklearn.metrics as sm\n",
        "        R2_score = round(sm.r2_score(self.risk_score, Y_pred), 2)\n",
        "            \n",
        "        return theta,Y_pred,R2_score\n",
        "        \n"
      ],
      "execution_count": null,
      "outputs": []
    },
    {
      "cell_type": "code",
      "metadata": {
        "id": "KRawysbgkXgb"
      },
      "source": [
        ""
      ],
      "execution_count": null,
      "outputs": []
    },
    {
      "cell_type": "code",
      "metadata": {
        "id": "BJBaaUC8gblD"
      },
      "source": [
        "x=[10,8,2,15,10,16,11,16]\n",
        "y = [85,60,5,20,30,82,15,80]\n",
        "z =[95,80,10,50,45,98,38,93]"
      ],
      "execution_count": null,
      "outputs": []
    },
    {
      "cell_type": "code",
      "metadata": {
        "id": "di_rLJLrhrko"
      },
      "source": [
        "obj=system(x,y,z)"
      ],
      "execution_count": null,
      "outputs": []
    },
    {
      "cell_type": "code",
      "metadata": {
        "id": "Yg-fGI4Whz2m"
      },
      "source": [
        "c,y,ac=obj.predict_output()"
      ],
      "execution_count": null,
      "outputs": []
    },
    {
      "cell_type": "code",
      "metadata": {
        "colab": {
          "base_uri": "https://localhost:8080/"
        },
        "id": "txQUeS3Eh0Ri",
        "outputId": "e9eb7996-6ccb-4f56-c44c-bed247945b97"
      },
      "source": [
        "ac"
      ],
      "execution_count": null,
      "outputs": [
        {
          "output_type": "execute_result",
          "data": {
            "text/plain": [
              "0.98"
            ]
          },
          "metadata": {
            "tags": []
          },
          "execution_count": 7
        }
      ]
    },
    {
      "cell_type": "code",
      "metadata": {
        "id": "PbEpPEUg-hEk",
        "colab": {
          "base_uri": "https://localhost:8080/"
        },
        "outputId": "e8b7ad8e-cbf6-4e43-ed03-2aea06bc9ec2"
      },
      "source": [
        "y"
      ],
      "execution_count": null,
      "outputs": [
        {
          "output_type": "execute_result",
          "data": {
            "text/plain": [
              "[94.47280984842452,\n",
              " 70.45628032047415,\n",
              " 15.42151044129788,\n",
              " 46.044664425998526,\n",
              " 47.6820584105688,\n",
              " 100.16460548404385,\n",
              " 36.29494745561612,\n",
              " 98.46312361357639]"
            ]
          },
          "metadata": {
            "tags": []
          },
          "execution_count": 9
        }
      ]
    },
    {
      "cell_type": "code",
      "metadata": {
        "id": "xK96U6JmiOFB"
      },
      "source": [
        ""
      ],
      "execution_count": null,
      "outputs": []
    },
    {
      "cell_type": "code",
      "metadata": {
        "id": "QIudNJq_iOM7"
      },
      "source": [
        ""
      ],
      "execution_count": null,
      "outputs": []
    },
    {
      "cell_type": "code",
      "metadata": {
        "id": "oFZ6Df50iOmr"
      },
      "source": [
        ""
      ],
      "execution_count": null,
      "outputs": []
    },
    {
      "cell_type": "markdown",
      "metadata": {
        "id": "QlStOOtTJ3k8"
      },
      "source": [
        "SCRATCH"
      ]
    },
    {
      "cell_type": "code",
      "metadata": {
        "colab": {
          "base_uri": "https://localhost:8080/",
          "height": 279
        },
        "id": "vZLe_ek6J5LO",
        "outputId": "1b30368a-0e7d-40e7-b093-1af92afd8ead"
      },
      "source": [
        "import matplotlib.pyplot as plt\n",
        "\n",
        "plt.scatter(df['Hours '], df['Risk'])\n",
        "plt.xlabel('number of Hours')\n",
        "plt.ylabel('Risk Score')\n",
        "plt.show()"
      ],
      "execution_count": null,
      "outputs": [
        {
          "output_type": "display_data",
          "data": {
            "image/png": "[encoded data removed]",
            "text/plain": [
              "<Figure size 432x288 with 1 Axes>"
            ]
          },
          "metadata": {
            "tags": [],
            "needs_background": "light"
          }
        }
      ]
    },
    {
      "cell_type": "code",
      "metadata": {
        "id": "qF-5ANLzJ5So"
      },
      "source": [
        ""
      ],
      "execution_count": null,
      "outputs": []
    },
    {
      "cell_type": "markdown",
      "metadata": {
        "id": "yH31tDRBMIvs"
      },
      "source": [
        "Calculate Mean and Covariance\n",
        "\n",
        "(REMEMBER)"
      ]
    },
    {
      "cell_type": "code",
      "metadata": {
        "id": "APOLkZyeJ5aE"
      },
      "source": [
        "x = df['Hours '].values\n",
        "y = df['Risk'].values"
      ],
      "execution_count": null,
      "outputs": []
    },
    {
      "cell_type": "code",
      "metadata": {
        "id": "-04oUsh3J5hT"
      },
      "source": [
        "def mean(values):\n",
        "    return np.mean(values)\n"
      ],
      "execution_count": null,
      "outputs": []
    },
    {
      "cell_type": "code",
      "metadata": {
        "id": "MRvs_d16J5oy"
      },
      "source": [
        "def variance(values, mean):\n",
        "    return sum([(x-mean)**2 for x in values])"
      ],
      "execution_count": null,
      "outputs": []
    },
    {
      "cell_type": "code",
      "metadata": {
        "id": "UzWRHQHcJ5vd"
      },
      "source": [
        "mean_X, mean_Y = mean(x), mean(y)"
      ],
      "execution_count": null,
      "outputs": []
    },
    {
      "cell_type": "code",
      "metadata": {
        "id": "-eqlzNK2J54B"
      },
      "source": [
        "var_x, var_y = variance(x, mean_X), variance(y, mean_Y)\n"
      ],
      "execution_count": null,
      "outputs": []
    },
    {
      "cell_type": "code",
      "metadata": {
        "colab": {
          "base_uri": "https://localhost:8080/"
        },
        "id": "NzSoMYfBJ6AX",
        "outputId": "a27f8f8a-fe19-44ee-8f1c-57aa8c1a7093"
      },
      "source": [
        "print(mean_X, var_x)"
      ],
      "execution_count": null,
      "outputs": [
        {
          "output_type": "stream",
          "text": [
            "11.125 152.875\n"
          ],
          "name": "stdout"
        }
      ]
    },
    {
      "cell_type": "code",
      "metadata": {
        "colab": {
          "base_uri": "https://localhost:8080/"
        },
        "id": "UiMpvgx-MbvC",
        "outputId": "f76d914e-de47-439d-bd6a-486200a45b1d"
      },
      "source": [
        "print(mean_Y, var_y)"
      ],
      "execution_count": null,
      "outputs": [
        {
          "output_type": "stream",
          "text": [
            "63.625 7361.875\n"
          ],
          "name": "stdout"
        }
      ]
    },
    {
      "cell_type": "code",
      "metadata": {
        "id": "5JNNW214Mb1c"
      },
      "source": [
        "def covariance(x, mean_x, y, mean_y):\n",
        "    covar = 0.0\n",
        "    for i in range(len(x)):\n",
        "        covar += (x[i] - mean_x)*(y[i] - mean_y)\n",
        "    return covar"
      ],
      "execution_count": null,
      "outputs": []
    },
    {
      "cell_type": "code",
      "metadata": {
        "colab": {
          "base_uri": "https://localhost:8080/"
        },
        "id": "LIQMCTBiMb8j",
        "outputId": "6562d50e-36e1-4566-a9da-2a74f3a86079"
      },
      "source": [
        "covariance(x, mean_X, y, mean_Y)"
      ],
      "execution_count": null,
      "outputs": [
        {
          "output_type": "execute_result",
          "data": {
            "text/plain": [
              "701.375"
            ]
          },
          "metadata": {
            "tags": []
          },
          "execution_count": 34
        }
      ]
    },
    {
      "cell_type": "code",
      "metadata": {
        "id": "SwRVtQwhMcD3"
      },
      "source": [
        "def coefficients(data):\n",
        "    a,b = list(data)\n",
        "    x = data[a].values\n",
        "    y = data[b].values\n",
        "    mean_x, mean_y = mean(x), mean(y)\n",
        "    b1 = covariance(x, mean_x, y, mean_y) / variance(x, mean_x)\n",
        "    b0 = mean_y - b1 * mean_x\n",
        "    return [b0, b1]"
      ],
      "execution_count": null,
      "outputs": []
    },
    {
      "cell_type": "markdown",
      "metadata": {
        "id": "mBtrxLZXnquF"
      },
      "source": [
        "EVALUATE"
      ]
    },
    {
      "cell_type": "code",
      "metadata": {
        "colab": {
          "base_uri": "https://localhost:8080/"
        },
        "id": "lhy3mlKBMcLL",
        "outputId": "402510fe-d784-4122-94d8-e6effc0d53d2"
      },
      "source": [
        "coefficients(df)"
      ],
      "execution_count": null,
      "outputs": [
        {
          "output_type": "execute_result",
          "data": {
            "text/plain": [
              "[12.584627964022893, 4.58789860997547]"
            ]
          },
          "metadata": {
            "tags": []
          },
          "execution_count": 36
        }
      ]
    },
    {
      "cell_type": "code",
      "metadata": {
        "id": "8KySihYZX-mb"
      },
      "source": [
        ""
      ],
      "execution_count": null,
      "outputs": []
    },
    {
      "cell_type": "code",
      "metadata": {
        "id": "hLz29pSlMcSc"
      },
      "source": [
        "predictions = []\n",
        "b0, b1 = coefficients(df)\n",
        "for i,row in df.iterrows():\n",
        "    ynew = b0 + b1 * row['Hours ']\n",
        "    predictions.append(ynew)"
      ],
      "execution_count": null,
      "outputs": []
    },
    {
      "cell_type": "code",
      "metadata": {
        "colab": {
          "base_uri": "https://localhost:8080/"
        },
        "id": "Lw1_IqBzMcaC",
        "outputId": "61f3f259-fb9c-472c-c0f1-a3c2106db4ac"
      },
      "source": [
        "predictions"
      ],
      "execution_count": null,
      "outputs": [
        {
          "output_type": "execute_result",
          "data": {
            "text/plain": [
              "[58.46361406377759,\n",
              " 53.87571545380212,\n",
              " 21.760425183973833,\n",
              " 81.40310711365495,\n",
              " 58.46361406377759,\n",
              " 85.99100572363042,\n",
              " 63.05151267375307,\n",
              " 85.99100572363042]"
            ]
          },
          "metadata": {
            "tags": []
          },
          "execution_count": 39
        }
      ]
    },
    {
      "cell_type": "code",
      "metadata": {
        "id": "VHjShZhTMvU8"
      },
      "source": [
        ""
      ],
      "execution_count": null,
      "outputs": []
    },
    {
      "cell_type": "markdown",
      "metadata": {
        "id": "WGs9Yf8Vdft9"
      },
      "source": [
        "ANALYZE"
      ]
    },
    {
      "cell_type": "code",
      "metadata": {
        "colab": {
          "base_uri": "https://localhost:8080/",
          "height": 265
        },
        "id": "d1wRkugnMvb5",
        "outputId": "a9d2b05c-c838-4b3c-b528-57195eb42557"
      },
      "source": [
        "regression_line = [(b0 + b1*x) for x in x]\n",
        "plt.scatter(x, df['Risk'], c='b', label='actual')\n",
        "plt.plot(x, regression_line, c='r', label='prediction')\n",
        "plt.legend(loc='upper left')\n",
        "plt.show()"
      ],
      "execution_count": null,
      "outputs": [
        {
          "output_type": "display_data",
          "data": {
            "image/png": "[encoded data removed]",
            "text/plain": [
              "<Figure size 432x288 with 1 Axes>"
            ]
          },
          "metadata": {
            "tags": [],
            "needs_background": "light"
          }
        }
      ]
    },
    {
      "cell_type": "code",
      "metadata": {
        "id": "l4vu867dMvjn"
      },
      "source": [
        "from math import sqrt\n",
        "\n",
        "def rmse(actual, predicted):\n",
        "    sum_err = 0.0\n",
        "    for i in range(len(actual)):\n",
        "        pred_err = predicted[i] - actual[i]\n",
        "        sum_err += pred_err**2\n",
        "    mean_err = sum_err / float(len(actual))\n",
        "    return sqrt(mean_err)"
      ],
      "execution_count": null,
      "outputs": []
    },
    {
      "cell_type": "code",
      "metadata": {
        "colab": {
          "base_uri": "https://localhost:8080/"
        },
        "id": "xx2qGxnrNBCn",
        "outputId": "77f71c1b-ddc6-472a-d922-ca745ae3a4db"
      },
      "source": [
        "rmse(y, predictions)"
      ],
      "execution_count": null,
      "outputs": [
        {
          "output_type": "execute_result",
          "data": {
            "text/plain": [
              "22.759716640449565"
            ]
          },
          "metadata": {
            "tags": []
          },
          "execution_count": 40
        }
      ]
    },
    {
      "cell_type": "code",
      "metadata": {
        "id": "_RgvwfKBNBJU"
      },
      "source": [
        ""
      ],
      "execution_count": null,
      "outputs": []
    },
    {
      "cell_type": "code",
      "metadata": {
        "id": "AvZ0xZDMNBQK"
      },
      "source": [
        ""
      ],
      "execution_count": null,
      "outputs": []
    }
  ]
}