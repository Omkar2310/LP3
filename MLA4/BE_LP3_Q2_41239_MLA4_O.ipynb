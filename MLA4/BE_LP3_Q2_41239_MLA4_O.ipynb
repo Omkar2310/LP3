{
  "nbformat": 4,
  "nbformat_minor": 0,
  "metadata": {
    "kernelspec": {
      "display_name": "Python 3",
      "language": "python",
      "name": "python3"
    },
    "language_info": {
      "codemirror_mode": {
        "name": "ipython",
        "version": 3
      },
      "file_extension": ".py",
      "mimetype": "text/x-python",
      "name": "python",
      "nbconvert_exporter": "python",
      "pygments_lexer": "ipython3",
      "version": "3.6.3"
    },
    "colab": {
      "name": "BE_LP3_Q2_41239_MLA4_O.ipynb",
      "provenance": []
    }
  },
  "cells": [
    {
      "cell_type": "code",
      "metadata": {
        "collapsed": true,
        "id": "BUizRc1gPg79"
      },
      "source": [
        "#Load the required Libraries \n",
        "import numpy as np\n",
        "import pandas as pd\n",
        "from copy import deepcopy\n",
        "from matplotlib import pyplot as plt\n",
        "%matplotlib inline"
      ],
      "execution_count": null,
      "outputs": []
    },
    {
      "cell_type": "code",
      "metadata": {
        "collapsed": true,
        "id": "2oS-OUiePg8E"
      },
      "source": [
        "#Given Dataset\n",
        "dataset = {\n",
        "'Points':['P1','P2','P3','P4','P5','P6','P7','P8',],\n",
        "'x_coordinate':[0.1,0.15,0.08,0.16,0.2,0.25,0.24,0.3],\n",
        "'y_coordinate':[0.6,0.71,0.9,0.85,0.3,0.5,0.1,0.2]\n",
        "}"
      ],
      "execution_count": null,
      "outputs": []
    },
    {
      "cell_type": "code",
      "metadata": {
        "collapsed": true,
        "id": "nxf-SjfHPg8G"
      },
      "source": [
        "#dataframe\n",
        "df = pd.DataFrame(dataset,columns=['Points','x_coordinate','y_coordinate'])"
      ],
      "execution_count": null,
      "outputs": []
    },
    {
      "cell_type": "code",
      "metadata": {
        "colab": {
          "base_uri": "https://localhost:8080/",
          "height": 300
        },
        "id": "j6iTIGfMPg8H",
        "outputId": "f275f1dd-8188-4741-f7bd-369f7d5183bf"
      },
      "source": [
        "df"
      ],
      "execution_count": null,
      "outputs": [
        {
          "output_type": "execute_result",
          "data": {
            "text/html": [
              "<div>\n",
              "<style scoped>\n",
              "    .dataframe tbody tr th:only-of-type {\n",
              "        vertical-align: middle;\n",
              "    }\n",
              "\n",
              "    .dataframe tbody tr th {\n",
              "        vertical-align: top;\n",
              "    }\n",
              "\n",
              "    .dataframe thead th {\n",
              "        text-align: right;\n",
              "    }\n",
              "</style>\n",
              "<table border=\"1\" class=\"dataframe\">\n",
              "  <thead>\n",
              "    <tr style=\"text-align: right;\">\n",
              "      <th></th>\n",
              "      <th>Points</th>\n",
              "      <th>x_coordinate</th>\n",
              "      <th>y_coordinate</th>\n",
              "    </tr>\n",
              "  </thead>\n",
              "  <tbody>\n",
              "    <tr>\n",
              "      <th>0</th>\n",
              "      <td>P1</td>\n",
              "      <td>0.10</td>\n",
              "      <td>0.60</td>\n",
              "    </tr>\n",
              "    <tr>\n",
              "      <th>1</th>\n",
              "      <td>P2</td>\n",
              "      <td>0.15</td>\n",
              "      <td>0.71</td>\n",
              "    </tr>\n",
              "    <tr>\n",
              "      <th>2</th>\n",
              "      <td>P3</td>\n",
              "      <td>0.08</td>\n",
              "      <td>0.90</td>\n",
              "    </tr>\n",
              "    <tr>\n",
              "      <th>3</th>\n",
              "      <td>P4</td>\n",
              "      <td>0.16</td>\n",
              "      <td>0.85</td>\n",
              "    </tr>\n",
              "    <tr>\n",
              "      <th>4</th>\n",
              "      <td>P5</td>\n",
              "      <td>0.20</td>\n",
              "      <td>0.30</td>\n",
              "    </tr>\n",
              "    <tr>\n",
              "      <th>5</th>\n",
              "      <td>P6</td>\n",
              "      <td>0.25</td>\n",
              "      <td>0.50</td>\n",
              "    </tr>\n",
              "    <tr>\n",
              "      <th>6</th>\n",
              "      <td>P7</td>\n",
              "      <td>0.24</td>\n",
              "      <td>0.10</td>\n",
              "    </tr>\n",
              "    <tr>\n",
              "      <th>7</th>\n",
              "      <td>P8</td>\n",
              "      <td>0.30</td>\n",
              "      <td>0.20</td>\n",
              "    </tr>\n",
              "  </tbody>\n",
              "</table>\n",
              "</div>"
            ],
            "text/plain": [
              "  Points  x_coordinate  y_coordinate\n",
              "0     P1          0.10          0.60\n",
              "1     P2          0.15          0.71\n",
              "2     P3          0.08          0.90\n",
              "3     P4          0.16          0.85\n",
              "4     P5          0.20          0.30\n",
              "5     P6          0.25          0.50\n",
              "6     P7          0.24          0.10\n",
              "7     P8          0.30          0.20"
            ]
          },
          "metadata": {
            "tags": []
          },
          "execution_count": 4
        }
      ]
    },
    {
      "cell_type": "code",
      "metadata": {
        "colab": {
          "base_uri": "https://localhost:8080/",
          "height": 282
        },
        "id": "-kli-m2IPg8K",
        "outputId": "b2297570-e6d1-42e8-956c-0b01f747d4c3"
      },
      "source": [
        "# Getting the values and plotting it\n",
        "f1 = df['x_coordinate'].values\n",
        "f2 = df['y_coordinate'].values\n",
        "X = np.array(list(zip(f1, f2)))\n",
        "plt.scatter(f1, f2, c='black', s=7)"
      ],
      "execution_count": null,
      "outputs": [
        {
          "output_type": "execute_result",
          "data": {
            "text/plain": [
              "<matplotlib.collections.PathCollection at 0x7fcafda87990>"
            ]
          },
          "metadata": {
            "tags": []
          },
          "execution_count": 5
        },
        {
          "output_type": "display_data",
          "data": {
            "image/png": "[encoded data removed]",
            "text/plain": [
              "<Figure size 432x288 with 1 Axes>"
            ]
          },
          "metadata": {
            "tags": [],
            "needs_background": "light"
          }
        }
      ]
    },
    {
      "cell_type": "code",
      "metadata": {
        "collapsed": true,
        "id": "Bh9YcYACPg8L"
      },
      "source": [
        "# Euclidean Distance Caculator\n",
        "def dist(a, b, ax=1):\n",
        "    return np.linalg.norm(a - b, axis=ax)"
      ],
      "execution_count": null,
      "outputs": []
    },
    {
      "cell_type": "code",
      "metadata": {
        "colab": {
          "base_uri": "https://localhost:8080/"
        },
        "id": "rLSNM3GIPg8M",
        "outputId": "8dd3b100-069c-43c1-aae6-78ea1e7fda8e"
      },
      "source": [
        "# Number of clusters\n",
        "k = 2\n",
        "# Two initia Centroids are given\n",
        "# m1 = P1\n",
        "# m2 = P8\n",
        "Centroid_m1 = list(X[0])\n",
        "Centroid_m2 = list(X[7])\n",
        "Centroids = np.array([Centroid_m1,Centroid_m2])\n",
        "print(Centroids)"
      ],
      "execution_count": null,
      "outputs": [
        {
          "output_type": "stream",
          "text": [
            "[[0.1 0.6]\n",
            " [0.3 0.2]]\n"
          ],
          "name": "stdout"
        }
      ]
    },
    {
      "cell_type": "code",
      "metadata": {
        "colab": {
          "base_uri": "https://localhost:8080/",
          "height": 282
        },
        "id": "rZb60gEhPg8M",
        "outputId": "fce2f115-509e-4019-ffb6-a7b03b198f01"
      },
      "source": [
        "# Plotting along with the Centroids\n",
        "plt.scatter(f1, f2, c='#050505', s=7)\n",
        "plt.scatter(Centroid_m1[0],Centroid_m1[1] ,marker='*', s=200, c='g')\n",
        "plt.scatter(Centroid_m2[0],Centroid_m2[1] ,marker='*', s=200, c='g')"
      ],
      "execution_count": null,
      "outputs": [
        {
          "output_type": "execute_result",
          "data": {
            "text/plain": [
              "<matplotlib.collections.PathCollection at 0x7fcafd58fb90>"
            ]
          },
          "metadata": {
            "tags": []
          },
          "execution_count": 8
        },
        {
          "output_type": "display_data",
          "data": {
            "image/png": "[encoded data removed]",
            "text/plain": [
              "<Figure size 432x288 with 1 Axes>"
            ]
          },
          "metadata": {
            "tags": [],
            "needs_background": "light"
          }
        }
      ]
    },
    {
      "cell_type": "code",
      "metadata": {
        "colab": {
          "base_uri": "https://localhost:8080/"
        },
        "id": "xWjaZ8IvPg8O",
        "outputId": "d95e59a4-4508-40ae-ee7c-fe34bb4ca228"
      },
      "source": [
        "# To store the value of centroids when it updates\n",
        "C_old = np.zeros(Centroids.shape)\n",
        "# Cluster Lables(0, 1, 2)\n",
        "clusters = np.zeros(len(X))\n",
        "# Error func. - Distance between new centroids and old centroids\n",
        "error = dist(Centroids, C_old, None)\n",
        "# Loop will run till the error becomes zero\n",
        "while error != 0:\n",
        "    # Assigning each value to its closest cluster\n",
        "    for i in range(len(X)):\n",
        "        distances = dist(X[i], Centroids)\n",
        "        cluster = np.argmin(distances)\n",
        "        clusters[i] = cluster\n",
        "    # Storing the old centroid values\n",
        "    C_old = deepcopy(Centroids)\n",
        "    print(C_old)\n",
        "    # Finding the new centroids by taking the average value\n",
        "    for i in range(k):\n",
        "        points = [X[j] for j in range(len(X)) if clusters[j] == i]\n",
        "        Centroids[i] = np.mean(points, axis=0)\n",
        "        print(Centroids[i])\n",
        "    error = dist(Centroids, C_old, None)"
      ],
      "execution_count": null,
      "outputs": [
        {
          "output_type": "stream",
          "text": [
            "[[0.1 0.6]\n",
            " [0.3 0.2]]\n",
            "[0.148 0.712]\n",
            "[0.24666667 0.2       ]\n",
            "[[0.148      0.712     ]\n",
            " [0.24666667 0.2       ]]\n",
            "[0.148 0.712]\n",
            "[0.24666667 0.2       ]\n"
          ],
          "name": "stdout"
        }
      ]
    },
    {
      "cell_type": "code",
      "metadata": {
        "colab": {
          "base_uri": "https://localhost:8080/",
          "height": 508
        },
        "id": "18v_S0aSPg8R",
        "outputId": "260bd06b-6a9b-41c7-f521-398d85ff49f9"
      },
      "source": [
        "colors = ['r', 'g']\n",
        "fig, ax = plt.subplots()\n",
        "print(\"New centroids are : \")\n",
        "print(Centroids[1])\n",
        "print(\"**\")\n",
        "for i in range(k):\n",
        "        points = np.array([X[j] for j in range(len(X)) if clusters[j] == i])\n",
        "        print(\"For centroid\",i)\n",
        "        print(points)\n",
        "        ax.scatter(points[:, 0], points[:, 1], s=7, c=colors[i])\n",
        "\n",
        "ax.scatter(Centroids[:, 0], Centroids[:, 1], marker='*', s=200, c='#050505')"
      ],
      "execution_count": null,
      "outputs": [
        {
          "output_type": "stream",
          "text": [
            "New centroids are : \n",
            "[0.24666667 0.2       ]\n",
            "**\n",
            "For centroid 0\n",
            "[[0.1  0.6 ]\n",
            " [0.15 0.71]\n",
            " [0.08 0.9 ]\n",
            " [0.16 0.85]\n",
            " [0.25 0.5 ]]\n",
            "For centroid 1\n",
            "[[0.2  0.3 ]\n",
            " [0.24 0.1 ]\n",
            " [0.3  0.2 ]]\n"
          ],
          "name": "stdout"
        },
        {
          "output_type": "execute_result",
          "data": {
            "text/plain": [
              "<matplotlib.collections.PathCollection at 0x7fcaf8f48110>"
            ]
          },
          "metadata": {
            "tags": []
          },
          "execution_count": 18
        },
        {
          "output_type": "display_data",
          "data": {
            "image/png": "[encoded data removed]",
            "text/plain": [
              "<Figure size 432x288 with 1 Axes>"
            ]
          },
          "metadata": {
            "tags": [],
            "needs_background": "light"
          }
        }
      ]
    },
    {
      "cell_type": "code",
      "metadata": {
        "collapsed": true,
        "id": "ZqUvaHz6Pg8T"
      },
      "source": [
        ""
      ],
      "execution_count": null,
      "outputs": []
    }
  ]
}