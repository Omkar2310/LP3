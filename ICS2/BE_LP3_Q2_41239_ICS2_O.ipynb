{
  "nbformat": 4,
  "nbformat_minor": 0,
  "metadata": {
    "colab": {
      "name": "BE_LP3_41239_ICS_2_O.ipynb",
      "provenance": []
    },
    "kernelspec": {
      "name": "python3",
      "display_name": "Python 3"
    },
    "language_info": {
      "name": "python"
    }
  },
  "cells": [
    {
      "cell_type": "code",
      "metadata": {
        "colab": {
          "base_uri": "https://localhost:8080/"
        },
        "id": "BIQuMLg6mSeu",
        "outputId": "9ba11a34-827b-4f26-e611-eb75de96998f"
      },
      "source": [
        "\n",
        "import math\n",
        "import random\n",
        "\n",
        "def point(a, b):\n",
        "\n",
        "\tif (4*(a**3) + 27*(b**2)) != 0:\n",
        "\t\tx = 1\n",
        "\t\tprint(\"generating\")\n",
        "\t\twhile True:\n",
        "\t\t\trhs = (x**3) + (a*x) + b\n",
        "\t\t\ty = int(math.sqrt(rhs))\n",
        "\t\t\tlhs = (y**2)\n",
        "\n",
        "\t\t\tif lhs == rhs:\n",
        "\t\t\t\treturn [x, y]\n",
        "\t\t\telse:\n",
        "\t\t\t\tx += 1\n",
        "\telse:\n",
        "\t\tprint(\"Enter another coefficients.\")\n",
        "\n",
        "\n",
        "a = int(input(\"Enter the coefficient 'a' of curve: \"))\n",
        "b = int(input(\"Enter the coefficient 'b' of curve: \"))\n",
        "\n",
        "private_A = 13\n",
        "private_B = 15\n",
        "\n",
        "generator = point(a, b)\n",
        "print(\"Generator point: \", generator)\n",
        "\n",
        "m = int(input(\"Enter the plaintext integer: \"))\n",
        "\n",
        "public_key_A = [private_A*generator[0], private_A*generator[1]]\n",
        "print(\"Public Key of A: \", public_key_A)\n",
        "\n",
        "public_key_B = [private_B*generator[0], private_B*generator[1]]\n",
        "print(\"Public Key of B: \", public_key_B)\n",
        "\n",
        "k = random.randint(0, 10)\n",
        "\n",
        "c1 = k * (generator[0] + generator[1])\n",
        "\n",
        "c2 = m + ((k*public_key_B[0]) + (k*public_key_B[1]))\n",
        "\n",
        "ciphertext = [c1, c2]\n",
        "print(\"Ciphertext: \", ciphertext)\n",
        "\n",
        "r = private_B*c1\n",
        "\n",
        "plaintext = c2 - r\n",
        "print(\"Decrypted Plaintext: \", plaintext)"
      ],
      "execution_count": 2,
      "outputs": [
        {
          "output_type": "stream",
          "text": [
            "Enter the coefficient 'a' of curve: 3\n",
            "Enter the coefficient 'b' of curve: 4\n",
            "generating\n",
            "Generator point:  [5, 12]\n",
            "Enter the plaintext integer: 10001010\n",
            "Public Key of A:  [65, 156]\n",
            "Public Key of B:  [75, 180]\n",
            "Ciphertext:  [51, 10001775]\n",
            "Decrypted Plaintext:  10001010\n"
          ],
          "name": "stdout"
        }
      ]
    }
  ]
}