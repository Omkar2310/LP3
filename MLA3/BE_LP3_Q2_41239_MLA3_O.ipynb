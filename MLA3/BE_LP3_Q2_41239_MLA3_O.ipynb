{
  "nbformat": 4,
  "nbformat_minor": 0,
  "metadata": {
    "kernelspec": {
      "display_name": "Python 3",
      "language": "python",
      "name": "python3"
    },
    "language_info": {
      "codemirror_mode": {
        "name": "ipython",
        "version": 3
      },
      "file_extension": ".py",
      "mimetype": "text/x-python",
      "name": "python",
      "nbconvert_exporter": "python",
      "pygments_lexer": "ipython3",
      "version": "3.7.0"
    },
    "colab": {
      "name": "BE_LP3_Q2_41239_MLA3_O.ipynb",
      "provenance": [],
      "collapsed_sections": []
    }
  },
  "cells": [
    {
      "cell_type": "markdown",
      "metadata": {
        "id": "yiwo2XzRZcVb"
      },
      "source": [
        "# **Problem Statement :**\n",
        "\n",
        "In the following diagram let blue circles indicate positive examples and orange squares indicate negative examples. We want to use k-NN algorithm for classifying the points. If k=3, find the class of the point (6,6). Extend the same example for Distance-Weighted k-NN and Locally weighted Averaging\n",
        "\n",
        "![image.png](data:image/png;base64,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)"
      ]
    },
    {
      "cell_type": "markdown",
      "metadata": {
        "id": "gHRz5Vgilw56"
      },
      "source": [
        "K-nearest neighbors (KNN) algorithm is a type of supervised ML algorithm which can be used\n",
        "for both classification as well as regression predictive problems. However, it is mainly used for\n",
        "classification predictive problems in industry. It takes a bunch of labeled points and uses them to learn how to label other points. It is supervised because you are trying to classify a point based on the known classification of other points.\n",
        "\n",
        "By observing the given data we can conclude that the input features and output labels are distinctly known, hence satisfying the rules necessary for the use of supervised learning.\n",
        "\n",
        "\n"
      ]
    },
    {
      "cell_type": "markdown",
      "metadata": {
        "id": "Wz0HE9MMD47D"
      },
      "source": [
        "## Objectives:\n",
        "* **Evaluate** the significance of distance measures and k value in k Nearest Neighbors algorithm\n",
        "\n",
        "* **Analyze** the data and determine why k-NN is the adviced method for the given task\n",
        "\n",
        "* **Apply** k Nearest Neighbors algorithm on the given data\n",
        "\n",
        "* **Understand and Remember** k Nearest Neighbors algorithm and its variations"
      ]
    },
    {
      "cell_type": "markdown",
      "metadata": {
        "id": "JyS0P3wJcvMx"
      },
      "source": [
        "# **Choosing the right value for K  .**\n",
        "\n",
        "Here are some things to keep in mind:\n",
        "\n",
        "---\n",
        "\n",
        "\n",
        "\n",
        "1. As we decrease the value of K to 1, our predictions become less stable. Just think for a minute, imagine K=1 and we have a query point surrounded by several reds and one green (I’m thinking about the top left corner of the colored plot above), but the green is the single nearest neighbor. Reasonably, we would think the query point is most likely red, but because K=1, KNN incorrectly predicts that the query point is green. \n",
        "\n",
        "2. Inversely, as we increase the value of K, our predictions become more stable due to majority voting / averaging, and thus, more likely to make more accurate predictions (up to a certain point). Eventually, we begin to witness an increasing number of errors. It is at this point we know we have pushed the value of K too far. \n",
        "\n",
        "3. In cases where we are taking a majority vote (e.g. picking the mode in a classification problem) among labels, we usually make K an odd number to have a tiebreaker"
      ]
    },
    {
      "cell_type": "markdown",
      "metadata": {
        "id": "NgpZFSdmN8xW"
      },
      "source": [
        ""
      ]
    },
    {
      "cell_type": "markdown",
      "metadata": {
        "id": "oVkSZfzJD47F"
      },
      "source": [
        "## Programmer's Perspective:\n",
        "\n",
        "Let S be the programmer's perspective of the linear regression, such that S = {s, e, X, Y, $f_{me}$, $f_{i}^{f}$ $Mem_{shared}$| Φ}\n",
        "\n",
        "s = Start State\n",
        "- {($X_{i}$, $y_{i}$): i ∈ N, $X_{i}$ = ($X_{i}^{0}$,$X_{i}^{1}$), $X_{i}^{0}$ $\\large \\epsilon$ $\\mathbb{R}$, $X_{i}^{1}$ $\\large \\epsilon$ $\\mathbb{R}$, $y_{i}$ $\\large \\epsilon$ {orange, blue} }\n",
        "- $X_{i}^{0}$ : x-coordinate\n",
        "- $X_{i}^{1}$ : y-coordinate\n",
        "- k = { number of neighbors }, k $\\large \\epsilon$ [3,length of the dataset]\n",
        "\n",
        "e = { Mapping the given point with the appropriate class }\n",
        "\n",
        "X = {X,y}\n",
        "* X: Feature values\n",
        "    - x: { x-coordinate | $x$ $\\large \\epsilon$ $\\mathbb{R}$ }\n",
        "    - y: { y-coordinate | $y$ $\\large \\epsilon$ $\\mathbb{R}$ }\n",
        "    - k: { number of neighbors | k $\\large \\epsilon$ [3,length of the dataset] }\n",
        "* y: Output values =  { $ y_i $ | $ y_i $ is the predicted class for point $ X_i $, $ y_i $ $ \\large \\epsilon $ {orange, blue}, $ i $ $ \\large \\epsilon $ $ \\mathbb{N} $ },\n",
        "\n",
        "$f_{me}$ = Function $f_{me}$ can be defined as $\\large f_{me}: X \\rightarrow y$<br>\n",
        "$f_{me}$: { KNearestNeighbors | X = (df, k, input_val, weight, metric), y=prediction}\n",
        "   - df : {(X,y)}\n",
        "   - k : { number of neighbors }, k $\\large \\epsilon$ [3,length of the dataset] \n",
        "   - input_val : { x, y | x=x-coordinate, y=y-coordinate }\n",
        "   - weight : { type of k-NN }, weight $\\large \\epsilon $ {distance, uniform}\n",
        "   - metric : { method for distance calculation }, metric $\\large \\epsilon $ {manhatten, euclidean}\n",
        "   - y = prediction: { output label | y $\\large \\epsilon $ {blue, orange} }\n",
        "   - Method to implement k nearest neighbors algorithm\n",
        "\n",
        "$f_{i}^{f}$ = friend functions: {$ f_1 $, $ f_2 $, $ f_3 $}\n",
        "For ever function $f_{i}$ in $f_{i}^{f}$:<br> \n",
        "$$\\large f_{i}: X \\rightarrow y$$\n",
        "\n",
        "- f1: { euclidean_distance | X=(point_a, point_b), y=distance }\n",
        "    - point_a, point_b : { coordinates of a point in the dataset }\n",
        "    - y = distance : { Euclidean distance between two points }, distance $\\large \\epsilon $ [0, $\\infty$)\n",
        "    - Method to calculate euclidian distance between two points point_a and point_b\n",
        "    \n",
        "    \n",
        "- f2: { manhattan_distance | X=(point_a, point_b), y=distance }\n",
        "    - point_a, point_b : { coordinates of a point in the dataset }\n",
        "    - y = distance : { Manhattan distance between two points }, distance $\\large \\epsilon $ [0, $\\infty$)\n",
        "    - Method to calculate manhattan distance between two points point_a and point_b\n",
        "    \n",
        "    \n",
        "- f3: { weighted_prediction | X = nearest_neighbors, y = prediction } \n",
        "    - nearest_neighbors: { [($X_{0}^{0}$,$X_{0}^{1}$), ($X_{1}^{0}$,$X_{1}^{1}$),... ($X_{k-1}^{0}$,$X_{k-1}^{1}$)] | $X_{i}^{0}$ = x-coordinate, $X_{i}^{1}$ = y-coordinate }\n",
        "    - y = prediction: { output label | y $\\large \\epsilon $ {blue, orange} }\n",
        "    - Method to predict class based on the weighted frequency of nearest neighbors\n",
        "    \n",
        "$Mem_{shared}$ = { Shared resource for all threads to store prediction for given set of input }"
      ]
    },
    {
      "cell_type": "code",
      "metadata": {
        "id": "wPc2iuO0h-cn"
      },
      "source": [
        "# Importing libraries\n",
        "import pandas as pd\n",
        "import numpy as np\n",
        "import matplotlib.pyplot as plt\n",
        "import threading\n",
        "from sklearn.neighbors import KNeighborsClassifier\n",
        "from sklearn.model_selection import train_test_split\n",
        "from sklearn.metrics import confusion_matrix ,classification_report\n",
        "import warnings\n",
        "warnings.filterwarnings('ignore')\n",
        "import sys"
      ],
      "execution_count": 1,
      "outputs": []
    },
    {
      "cell_type": "code",
      "metadata": {
        "id": "NSWNt96Ph-co"
      },
      "source": [
        "data = {\n",
        "    'x': [2, 4, 4, 4, 6, 6], \n",
        "    'y': [4, 2, 4, 6, 2, 4],\n",
        "    'label':[\"orange\", \"orange\", \"blue\", \"orange\", \"blue\", \"orange\"]\n",
        "} \n",
        "df = pd.DataFrame.from_dict(data) \n",
        "label = \"label\""
      ],
      "execution_count": 2,
      "outputs": []
    },
    {
      "cell_type": "code",
      "metadata": {
        "id": "jhdeHb_9h-cp",
        "colab": {
          "base_uri": "https://localhost:8080/",
          "height": 206
        },
        "outputId": "1753e282-1898-4679-8373-5dc1b93595e8"
      },
      "source": [
        "df.head()"
      ],
      "execution_count": 3,
      "outputs": [
        {
          "output_type": "execute_result",
          "data": {
            "text/html": [
              "<div>\n",
              "<style scoped>\n",
              "    .dataframe tbody tr th:only-of-type {\n",
              "        vertical-align: middle;\n",
              "    }\n",
              "\n",
              "    .dataframe tbody tr th {\n",
              "        vertical-align: top;\n",
              "    }\n",
              "\n",
              "    .dataframe thead th {\n",
              "        text-align: right;\n",
              "    }\n",
              "</style>\n",
              "<table border=\"1\" class=\"dataframe\">\n",
              "  <thead>\n",
              "    <tr style=\"text-align: right;\">\n",
              "      <th></th>\n",
              "      <th>x</th>\n",
              "      <th>y</th>\n",
              "      <th>label</th>\n",
              "    </tr>\n",
              "  </thead>\n",
              "  <tbody>\n",
              "    <tr>\n",
              "      <th>0</th>\n",
              "      <td>2</td>\n",
              "      <td>4</td>\n",
              "      <td>orange</td>\n",
              "    </tr>\n",
              "    <tr>\n",
              "      <th>1</th>\n",
              "      <td>4</td>\n",
              "      <td>2</td>\n",
              "      <td>orange</td>\n",
              "    </tr>\n",
              "    <tr>\n",
              "      <th>2</th>\n",
              "      <td>4</td>\n",
              "      <td>4</td>\n",
              "      <td>blue</td>\n",
              "    </tr>\n",
              "    <tr>\n",
              "      <th>3</th>\n",
              "      <td>4</td>\n",
              "      <td>6</td>\n",
              "      <td>orange</td>\n",
              "    </tr>\n",
              "    <tr>\n",
              "      <th>4</th>\n",
              "      <td>6</td>\n",
              "      <td>2</td>\n",
              "      <td>blue</td>\n",
              "    </tr>\n",
              "  </tbody>\n",
              "</table>\n",
              "</div>"
            ],
            "text/plain": [
              "   x  y   label\n",
              "0  2  4  orange\n",
              "1  4  2  orange\n",
              "2  4  4    blue\n",
              "3  4  6  orange\n",
              "4  6  2    blue"
            ]
          },
          "metadata": {
            "tags": []
          },
          "execution_count": 3
        }
      ]
    },
    {
      "cell_type": "code",
      "metadata": {
        "id": "rHATRjKyh-cr",
        "colab": {
          "base_uri": "https://localhost:8080/",
          "height": 112
        },
        "outputId": "1de28d6e-e162-4457-980a-7128f0d2b639"
      },
      "source": [
        "df.describe().T"
      ],
      "execution_count": 4,
      "outputs": [
        {
          "output_type": "execute_result",
          "data": {
            "text/html": [
              "<div>\n",
              "<style scoped>\n",
              "    .dataframe tbody tr th:only-of-type {\n",
              "        vertical-align: middle;\n",
              "    }\n",
              "\n",
              "    .dataframe tbody tr th {\n",
              "        vertical-align: top;\n",
              "    }\n",
              "\n",
              "    .dataframe thead th {\n",
              "        text-align: right;\n",
              "    }\n",
              "</style>\n",
              "<table border=\"1\" class=\"dataframe\">\n",
              "  <thead>\n",
              "    <tr style=\"text-align: right;\">\n",
              "      <th></th>\n",
              "      <th>count</th>\n",
              "      <th>mean</th>\n",
              "      <th>std</th>\n",
              "      <th>min</th>\n",
              "      <th>25%</th>\n",
              "      <th>50%</th>\n",
              "      <th>75%</th>\n",
              "      <th>max</th>\n",
              "    </tr>\n",
              "  </thead>\n",
              "  <tbody>\n",
              "    <tr>\n",
              "      <th>x</th>\n",
              "      <td>6.0</td>\n",
              "      <td>4.333333</td>\n",
              "      <td>1.505545</td>\n",
              "      <td>2.0</td>\n",
              "      <td>4.0</td>\n",
              "      <td>4.0</td>\n",
              "      <td>5.5</td>\n",
              "      <td>6.0</td>\n",
              "    </tr>\n",
              "    <tr>\n",
              "      <th>y</th>\n",
              "      <td>6.0</td>\n",
              "      <td>3.666667</td>\n",
              "      <td>1.505545</td>\n",
              "      <td>2.0</td>\n",
              "      <td>2.5</td>\n",
              "      <td>4.0</td>\n",
              "      <td>4.0</td>\n",
              "      <td>6.0</td>\n",
              "    </tr>\n",
              "  </tbody>\n",
              "</table>\n",
              "</div>"
            ],
            "text/plain": [
              "   count      mean       std  min  25%  50%  75%  max\n",
              "x    6.0  4.333333  1.505545  2.0  4.0  4.0  5.5  6.0\n",
              "y    6.0  3.666667  1.505545  2.0  2.5  4.0  4.0  6.0"
            ]
          },
          "metadata": {
            "tags": []
          },
          "execution_count": 4
        }
      ]
    },
    {
      "cell_type": "code",
      "metadata": {
        "id": "sNs0j7yVh-cr",
        "colab": {
          "base_uri": "https://localhost:8080/"
        },
        "outputId": "4cc0a2b8-3017-4121-b255-3804de198bd8"
      },
      "source": [
        "df['label'].value_counts()"
      ],
      "execution_count": 5,
      "outputs": [
        {
          "output_type": "execute_result",
          "data": {
            "text/plain": [
              "orange    4\n",
              "blue      2\n",
              "Name: label, dtype: int64"
            ]
          },
          "metadata": {
            "tags": []
          },
          "execution_count": 5
        }
      ]
    },
    {
      "cell_type": "code",
      "metadata": {
        "id": "Bsp3IHO4h-cs",
        "colab": {
          "base_uri": "https://localhost:8080/"
        },
        "outputId": "c65e15f0-4ec0-4312-8309-8d4381d8da12"
      },
      "source": [
        "df.shape"
      ],
      "execution_count": null,
      "outputs": [
        {
          "output_type": "execute_result",
          "data": {
            "text/plain": [
              "(6, 3)"
            ]
          },
          "metadata": {
            "tags": []
          },
          "execution_count": 6
        }
      ]
    },
    {
      "cell_type": "code",
      "metadata": {
        "id": "y71UWrxrh-cs"
      },
      "source": [
        "# Function to validate the provided data to k-NN algorithm\n",
        "def check_data(df, k, input_val, weight, metric):\n",
        "    if len(input_val) != df.shape[1]-1:\n",
        "        print(\"Provided input points are invalid\")\n",
        "        return False\n",
        "    if k > len(df):\n",
        "        print(\"k value cannot be greater than size of the dataset\")\n",
        "        return False\n",
        "    if weight not in ['distance', 'uniform']:\n",
        "        print(\"Param weight takes values distance or uniform\")\n",
        "        return False\n",
        "    if metric not in ['manhattan','euclidean']:\n",
        "        print(\"Param metric takes values manhattan or euclidean\")\n",
        "        return False\n",
        "    return True"
      ],
      "execution_count": 6,
      "outputs": []
    },
    {
      "cell_type": "markdown",
      "metadata": {
        "id": "vFCXRROmLL4c"
      },
      "source": [
        ""
      ]
    },
    {
      "cell_type": "code",
      "metadata": {
        "id": "K8hAuq_hh-ct"
      },
      "source": [
        "# Function to calculate euclidean distance between two points\n",
        "def euclidean_distance(point_a, point_b):\n",
        "    '''\n",
        "    params: {point_a, point_b}\n",
        "    - point_a, point_b : { coordinates of a point in the dataset }\n",
        "    - type : list\n",
        "    \n",
        "    - returns: {distance}\n",
        "    - distance : { Euclidean distance between point_a and point_b }\n",
        "    - type: float\n",
        "    '''\n",
        "    distance = 0\n",
        "    for i in range(len(point_a)):\n",
        "        distance = distance + (point_a[i]-point_b[i])**2\n",
        "    return distance**0.5"
      ],
      "execution_count": 7,
      "outputs": []
    },
    {
      "cell_type": "code",
      "metadata": {
        "id": "qHaikliuh-ct"
      },
      "source": [
        "# Function to calculate manhattan distance between two points\n",
        "def manhattan_distance(point_a, point_b):\n",
        "    '''\n",
        "    params: {point_a, point_b}\n",
        "    - point_a, point_b : { coordinates of a point in the dataset }\n",
        "    - type : list\n",
        "    \n",
        "    - returns: {distance}\n",
        "    - distance : { Manhattan distance between point_a and point_b }\n",
        "    - type: float\n",
        "    '''\n",
        "    distance = 0\n",
        "    for i in range(len(point_a)):\n",
        "        distance = distance + abs(point_a[i]-point_b[i])\n",
        "    return distance"
      ],
      "execution_count": 8,
      "outputs": []
    },
    {
      "cell_type": "code",
      "metadata": {
        "id": "ghsovYCbh-cu"
      },
      "source": [
        "# Method to predict class based on the weighted frequency of nearest neighbors\n",
        "def weighted_prediction(nearest_neighbors):\n",
        "    '''\n",
        "    params: {nearest_neighbors}\n",
        "    - nearest_neighbors : { distance and class of k points from the dataset, nearest to input value }\n",
        "    - type : list - [(distance, class),(distance, class), ...]\n",
        "    \n",
        "    - returns: {prediction}\n",
        "    - prediction : { Output label i.e blue or orange }\n",
        "    - type: string\n",
        "    '''\n",
        "    label_frequency = {}\n",
        "    # Calculate weight for each label\n",
        "    for distance, label in nearest_neighbors:\n",
        "        if int(distance) == 0:\n",
        "            label_frequency[label] = sys.maxsize\n",
        "            break\n",
        "        if label in label_frequency:\n",
        "            label_frequency[label] += 1/distance\n",
        "        else: label_frequency[label] = 1/distance\n",
        "    # Return label having maximum weight\n",
        "    return max(label_frequency, key=label_frequency.get) "
      ],
      "execution_count": 9,
      "outputs": []
    },
    {
      "cell_type": "code",
      "metadata": {
        "id": "knDll1Yf4lZF"
      },
      "source": [
        "def chooseK(arr):\n",
        "    print(\"Size of array :\",arr.shape[0])\n",
        "    k=round(math.sqrt(arr.shape[0]))\n",
        "    if(k%2==0):\n",
        "      \n",
        "        k=k+1;\n",
        "    #k should be odd so that classfication can be done properly(No chance of 50%-50% classification)\n",
        "    print(\"Choosen value of K : \",k)\n",
        "    return k;"
      ],
      "execution_count": 10,
      "outputs": []
    },
    {
      "cell_type": "code",
      "metadata": {
        "id": "M0OlYdSkh-cv"
      },
      "source": [
        "# Method to implement k nearest neighbors algorithm\n",
        "def KNearestNeighbors(X, y, k, input_val, weight, metric):\n",
        "    '''\n",
        "    params: {X, y, k, input_val, weight, metric}\n",
        "    - X : { Input data }\n",
        "    - type : list \n",
        "    \n",
        "    - y : {Ouput label}\n",
        "    - type : list\n",
        "    \n",
        "    - k : { number of neighbors }\n",
        "    - type : int\n",
        "    \n",
        "    - input_val : { value for which output label is to be determined }\n",
        "    - type : list - [x-coordinate, y-coordinate]\n",
        "    \n",
        "    - weight : { type of k-NN }\n",
        "    - type : string\n",
        "    \n",
        "    - metric : { method for calculating distance }\n",
        "    - type : string\n",
        "    \n",
        "    - returns: {prediction}\n",
        "    - prediction : { Output label i.e blue or orange }\n",
        "    - type: string\n",
        "    '''\n",
        "    # Calculate distance depending on the metrics\n",
        "    distances = []\n",
        "    if metric == 'manhattan':\n",
        "        for i in range(len(X)):\n",
        "            distances.append((manhattan_distance(X[i], input_val),y[i]))\n",
        "    else:\n",
        "        for i in range(len(X)):\n",
        "            distances.append((euclidean_distance(X[i], input_val),y[i]))\n",
        "                \n",
        "    # Sort points according to the calculated distance \n",
        "    distances.sort(key=lambda distance: distance[0])\n",
        "    if weight == 'distance': # Perform prediction using distance as weight\n",
        "        nearest_neighbors = distances[:k].copy()\n",
        "        prediction = weighted_prediction(nearest_neighbors)\n",
        "    else: # Perform prediction based on frequency of ouput label in nearest neighbors(uniform)\n",
        "        nearest_neighbors = distances[:k].copy()\n",
        "        if int(distances[0][0]) == 0:\n",
        "            prediction = distances[0][1]\n",
        "            return prediction\n",
        "        neighbor_classes = [label[1] for label in nearest_neighbors]\n",
        "        prediction = max(set(neighbor_classes), key=neighbor_classes.count)\n",
        "    return prediction"
      ],
      "execution_count": 11,
      "outputs": []
    },
    {
      "cell_type": "code",
      "metadata": {
        "id": "yhIXjFYmh-cw",
        "colab": {
          "base_uri": "https://localhost:8080/"
        },
        "outputId": "516e4a76-9a7a-4a23-9b2b-8330be6541b9"
      },
      "source": [
        "k = 3\n",
        "metric = 'euclidean'\n",
        "weight = 'uniform'\n",
        "input_val = [4,4]\n",
        "X=None\n",
        "y=None\n",
        "if check_data(df, k, input_val, weight, metric):\n",
        "    X = df.drop(columns=[label]).values.tolist()\n",
        "    y = df[label].values.tolist()\n",
        "    print(\"Predicted value: \",KNearestNeighbors(X, y, k, input_val, weight, metric))"
      ],
      "execution_count": 15,
      "outputs": [
        {
          "output_type": "stream",
          "text": [
            "Predicted value:  blue\n"
          ],
          "name": "stdout"
        }
      ]
    },
    {
      "cell_type": "code",
      "metadata": {
        "id": "m2SUjfD9h-cx"
      },
      "source": [
        "# Function to take input values from the user\n",
        "def predict(X,y):\n",
        "    '''\n",
        "    params: {X, y, k, input_val, weight, metric}\n",
        "    - X : { Input data }\n",
        "    - type : list \n",
        "    \n",
        "    - y : {Ouput label}\n",
        "    - type : list\n",
        "    \n",
        "    - returns: {prediction}\n",
        "    - prediction : { Output label i.e blue or orange }\n",
        "    - type: string\n",
        "    '''\n",
        "    x_c = float(input('Enter x-coordinate: '))\n",
        "    y_c = float(input('Enter y-coordinate: '))\n",
        "    \n",
        "    k = 3\n",
        "        \n",
        "    '''flag = True\n",
        "    while flag:\n",
        "        k = int(input('Enter k value: '))\n",
        "        if k<3 or k>len(X):\n",
        "            print(\"Please select provide a valid k value!\")\n",
        "        else:\n",
        "            flag = False '''\n",
        "        \n",
        "    flag = True\n",
        "    while flag:\n",
        "        weight_inp = int(input('For distance weighted K-NN enter 1 otherwise enter 0: '))\n",
        "        if weight_inp not in [0,1]:\n",
        "            print(\"Please select provide a valid input!\")\n",
        "        else:\n",
        "            if weight_inp == 1: weight = 'distance'\n",
        "            else: weight = 'uniform'\n",
        "            flag = False\n",
        "    \n",
        "    flag = True\n",
        "    while flag:\n",
        "        metric_inp = int(input('Metric - For manhatten distance enter 0 for euclidean distance enter 1: '))\n",
        "        if metric_inp not in [0,1]:\n",
        "            print(\"Please select provide a valid input!\")\n",
        "        else:\n",
        "            if metric_inp == 1: metric = 'manhattan'\n",
        "            else: metric = 'euclidean'\n",
        "            flag = False\n",
        "    print(\"\\nPredicted value: \",KNearestNeighbors(X, y,  k, [x_c,y_c], weight=weight, metric=metric))\n",
        "    return {'k':k, 'input_val': [x_c,y_c], 'weight':weight, 'metric':metric}"
      ],
      "execution_count": 13,
      "outputs": []
    },
    {
      "cell_type": "code",
      "metadata": {
        "id": "pE9g8ljMh-cy",
        "colab": {
          "base_uri": "https://localhost:8080/"
        },
        "outputId": "c33c0ed0-93e3-40ec-c690-bca8ae26a2ad"
      },
      "source": [
        "input_dict = predict(X, y)"
      ],
      "execution_count": 20,
      "outputs": [
        {
          "output_type": "stream",
          "text": [
            "Enter x-coordinate: 6\n",
            "Enter y-coordinate: 2\n",
            "For distance weighted K-NN enter 1 otherwise enter 0: 0\n",
            "Metric - For manhatten distance enter 0 for euclidean distance enter 1: 1\n",
            "\n",
            "Predicted value:  blue\n"
          ],
          "name": "stdout"
        }
      ]
    },
    {
      "cell_type": "code",
      "metadata": {
        "id": "H8WgcpWU4lZJ"
      },
      "source": [
        ""
      ],
      "execution_count": null,
      "outputs": []
    },
    {
      "cell_type": "code",
      "metadata": {
        "id": "u5AoBe2L45WX"
      },
      "source": [
        ""
      ],
      "execution_count": null,
      "outputs": []
    }
  ]
}